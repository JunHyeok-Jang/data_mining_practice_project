{
 "cells": [
  {
   "cell_type": "code",
   "execution_count": 1,
   "metadata": {},
   "outputs": [],
   "source": [
    "MAX_YEAR = 4\n",
    "\n",
    "import pandas as pd"
   ]
  },
  {
   "cell_type": "code",
   "execution_count": 3,
   "metadata": {},
   "outputs": [],
   "source": [
    "#크롤링한 데이터 읽어오기\n",
    "df = pd.read_csv('KBL.csv')\n",
    "df = df.sort_values(by=['선수명', '년도'], axis=0, ascending=True)\n",
    "df = df.reset_index(drop=True)\n",
    "\n",
    "#데뷔년도부터 최대 MAX_YEAR만큼의 데이터만 유지\n",
    "unique = set()\n",
    "for idx, row in df.iterrows():\n",
    "    if row['선수명'] not in unique:\n",
    "        unique.add(row['선수명'])\n",
    "        first_year = row['년도']\n",
    "        first_year = int(first_year[:4])\n",
    "    max_year = first_year + MAX_YEAR - 1\n",
    "    max_year = str(max_year) + \"-\" + str(max_year + 1)\n",
    "    if row['년도'] > max_year: df = df.drop(index=idx)\n",
    "        \n",
    "#index 초기화\n",
    "df = df.reset_index(drop=True)\n",
    "\n",
    "#csv로 저장\n",
    "df.to_csv('KBL_preprocessed.csv', encoding='utf-8-sig')"
   ]
  },
  {
   "cell_type": "code",
   "execution_count": null,
   "metadata": {},
   "outputs": [],
   "source": []
  }
 ],
 "metadata": {
  "kernelspec": {
   "display_name": "Python 3",
   "language": "python",
   "name": "python3"
  },
  "language_info": {
   "codemirror_mode": {
    "name": "ipython",
    "version": 3
   },
   "file_extension": ".py",
   "mimetype": "text/x-python",
   "name": "python",
   "nbconvert_exporter": "python",
   "pygments_lexer": "ipython3",
   "version": "3.6.4"
  }
 },
 "nbformat": 4,
 "nbformat_minor": 5
}
