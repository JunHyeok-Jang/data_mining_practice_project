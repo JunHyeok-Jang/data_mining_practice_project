{
 "cells": [
  {
   "cell_type": "code",
   "execution_count": 3,
   "metadata": {},
   "outputs": [],
   "source": [
    "import pandas as pd\n",
    "import numpy as np"
   ]
  },
  {
   "cell_type": "code",
   "execution_count": 4,
   "metadata": {
    "scrolled": true
   },
   "outputs": [
    {
     "ename": "OSError",
     "evalue": "Initializing from file failed",
     "output_type": "error",
     "traceback": [
      "\u001b[1;31m---------------------------------------------------------------------------\u001b[0m",
      "\u001b[1;31mOSError\u001b[0m                                   Traceback (most recent call last)",
      "\u001b[1;32m<ipython-input-4-f02da2fa3830>\u001b[0m in \u001b[0;36m<module>\u001b[1;34m()\u001b[0m\n\u001b[0;32m      1\u001b[0m \u001b[0mdf1\u001b[0m \u001b[1;33m=\u001b[0m \u001b[0mpd\u001b[0m\u001b[1;33m.\u001b[0m\u001b[0mread_csv\u001b[0m\u001b[1;33m(\u001b[0m\u001b[1;34m'KBL_preprocessed.csv'\u001b[0m\u001b[1;33m)\u001b[0m\u001b[1;33m\u001b[0m\u001b[0m\n\u001b[1;32m----> 2\u001b[1;33m \u001b[0mdf2\u001b[0m \u001b[1;33m=\u001b[0m \u001b[0mpd\u001b[0m\u001b[1;33m.\u001b[0m\u001b[0mread_csv\u001b[0m\u001b[1;33m(\u001b[0m\u001b[1;34m'프로기록있는애들.csv'\u001b[0m\u001b[1;33m)\u001b[0m\u001b[1;33m\u001b[0m\u001b[0m\n\u001b[0m\u001b[0;32m      3\u001b[0m \u001b[0mdf3\u001b[0m \u001b[1;33m=\u001b[0m \u001b[0mpd\u001b[0m\u001b[1;33m.\u001b[0m\u001b[0mread_csv\u001b[0m\u001b[1;33m(\u001b[0m\u001b[1;34m'프로기록없는애들.csv'\u001b[0m\u001b[1;33m)\u001b[0m\u001b[1;33m\u001b[0m\u001b[0m\n",
      "\u001b[1;32m~\\Anaconda3\\lib\\site-packages\\pandas\\io\\parsers.py\u001b[0m in \u001b[0;36mparser_f\u001b[1;34m(filepath_or_buffer, sep, delimiter, header, names, index_col, usecols, squeeze, prefix, mangle_dupe_cols, dtype, engine, converters, true_values, false_values, skipinitialspace, skiprows, nrows, na_values, keep_default_na, na_filter, verbose, skip_blank_lines, parse_dates, infer_datetime_format, keep_date_col, date_parser, dayfirst, iterator, chunksize, compression, thousands, decimal, lineterminator, quotechar, quoting, escapechar, comment, encoding, dialect, tupleize_cols, error_bad_lines, warn_bad_lines, skipfooter, skip_footer, doublequote, delim_whitespace, as_recarray, compact_ints, use_unsigned, low_memory, buffer_lines, memory_map, float_precision)\u001b[0m\n\u001b[0;32m    707\u001b[0m                     skip_blank_lines=skip_blank_lines)\n\u001b[0;32m    708\u001b[0m \u001b[1;33m\u001b[0m\u001b[0m\n\u001b[1;32m--> 709\u001b[1;33m         \u001b[1;32mreturn\u001b[0m \u001b[0m_read\u001b[0m\u001b[1;33m(\u001b[0m\u001b[0mfilepath_or_buffer\u001b[0m\u001b[1;33m,\u001b[0m \u001b[0mkwds\u001b[0m\u001b[1;33m)\u001b[0m\u001b[1;33m\u001b[0m\u001b[0m\n\u001b[0m\u001b[0;32m    710\u001b[0m \u001b[1;33m\u001b[0m\u001b[0m\n\u001b[0;32m    711\u001b[0m     \u001b[0mparser_f\u001b[0m\u001b[1;33m.\u001b[0m\u001b[0m__name__\u001b[0m \u001b[1;33m=\u001b[0m \u001b[0mname\u001b[0m\u001b[1;33m\u001b[0m\u001b[0m\n",
      "\u001b[1;32m~\\Anaconda3\\lib\\site-packages\\pandas\\io\\parsers.py\u001b[0m in \u001b[0;36m_read\u001b[1;34m(filepath_or_buffer, kwds)\u001b[0m\n\u001b[0;32m    447\u001b[0m \u001b[1;33m\u001b[0m\u001b[0m\n\u001b[0;32m    448\u001b[0m     \u001b[1;31m# Create the parser.\u001b[0m\u001b[1;33m\u001b[0m\u001b[1;33m\u001b[0m\u001b[0m\n\u001b[1;32m--> 449\u001b[1;33m     \u001b[0mparser\u001b[0m \u001b[1;33m=\u001b[0m \u001b[0mTextFileReader\u001b[0m\u001b[1;33m(\u001b[0m\u001b[0mfilepath_or_buffer\u001b[0m\u001b[1;33m,\u001b[0m \u001b[1;33m**\u001b[0m\u001b[0mkwds\u001b[0m\u001b[1;33m)\u001b[0m\u001b[1;33m\u001b[0m\u001b[0m\n\u001b[0m\u001b[0;32m    450\u001b[0m \u001b[1;33m\u001b[0m\u001b[0m\n\u001b[0;32m    451\u001b[0m     \u001b[1;32mif\u001b[0m \u001b[0mchunksize\u001b[0m \u001b[1;32mor\u001b[0m \u001b[0miterator\u001b[0m\u001b[1;33m:\u001b[0m\u001b[1;33m\u001b[0m\u001b[0m\n",
      "\u001b[1;32m~\\Anaconda3\\lib\\site-packages\\pandas\\io\\parsers.py\u001b[0m in \u001b[0;36m__init__\u001b[1;34m(self, f, engine, **kwds)\u001b[0m\n\u001b[0;32m    816\u001b[0m             \u001b[0mself\u001b[0m\u001b[1;33m.\u001b[0m\u001b[0moptions\u001b[0m\u001b[1;33m[\u001b[0m\u001b[1;34m'has_index_names'\u001b[0m\u001b[1;33m]\u001b[0m \u001b[1;33m=\u001b[0m \u001b[0mkwds\u001b[0m\u001b[1;33m[\u001b[0m\u001b[1;34m'has_index_names'\u001b[0m\u001b[1;33m]\u001b[0m\u001b[1;33m\u001b[0m\u001b[0m\n\u001b[0;32m    817\u001b[0m \u001b[1;33m\u001b[0m\u001b[0m\n\u001b[1;32m--> 818\u001b[1;33m         \u001b[0mself\u001b[0m\u001b[1;33m.\u001b[0m\u001b[0m_make_engine\u001b[0m\u001b[1;33m(\u001b[0m\u001b[0mself\u001b[0m\u001b[1;33m.\u001b[0m\u001b[0mengine\u001b[0m\u001b[1;33m)\u001b[0m\u001b[1;33m\u001b[0m\u001b[0m\n\u001b[0m\u001b[0;32m    819\u001b[0m \u001b[1;33m\u001b[0m\u001b[0m\n\u001b[0;32m    820\u001b[0m     \u001b[1;32mdef\u001b[0m \u001b[0mclose\u001b[0m\u001b[1;33m(\u001b[0m\u001b[0mself\u001b[0m\u001b[1;33m)\u001b[0m\u001b[1;33m:\u001b[0m\u001b[1;33m\u001b[0m\u001b[0m\n",
      "\u001b[1;32m~\\Anaconda3\\lib\\site-packages\\pandas\\io\\parsers.py\u001b[0m in \u001b[0;36m_make_engine\u001b[1;34m(self, engine)\u001b[0m\n\u001b[0;32m   1047\u001b[0m     \u001b[1;32mdef\u001b[0m \u001b[0m_make_engine\u001b[0m\u001b[1;33m(\u001b[0m\u001b[0mself\u001b[0m\u001b[1;33m,\u001b[0m \u001b[0mengine\u001b[0m\u001b[1;33m=\u001b[0m\u001b[1;34m'c'\u001b[0m\u001b[1;33m)\u001b[0m\u001b[1;33m:\u001b[0m\u001b[1;33m\u001b[0m\u001b[0m\n\u001b[0;32m   1048\u001b[0m         \u001b[1;32mif\u001b[0m \u001b[0mengine\u001b[0m \u001b[1;33m==\u001b[0m \u001b[1;34m'c'\u001b[0m\u001b[1;33m:\u001b[0m\u001b[1;33m\u001b[0m\u001b[0m\n\u001b[1;32m-> 1049\u001b[1;33m             \u001b[0mself\u001b[0m\u001b[1;33m.\u001b[0m\u001b[0m_engine\u001b[0m \u001b[1;33m=\u001b[0m \u001b[0mCParserWrapper\u001b[0m\u001b[1;33m(\u001b[0m\u001b[0mself\u001b[0m\u001b[1;33m.\u001b[0m\u001b[0mf\u001b[0m\u001b[1;33m,\u001b[0m \u001b[1;33m**\u001b[0m\u001b[0mself\u001b[0m\u001b[1;33m.\u001b[0m\u001b[0moptions\u001b[0m\u001b[1;33m)\u001b[0m\u001b[1;33m\u001b[0m\u001b[0m\n\u001b[0m\u001b[0;32m   1050\u001b[0m         \u001b[1;32melse\u001b[0m\u001b[1;33m:\u001b[0m\u001b[1;33m\u001b[0m\u001b[0m\n\u001b[0;32m   1051\u001b[0m             \u001b[1;32mif\u001b[0m \u001b[0mengine\u001b[0m \u001b[1;33m==\u001b[0m \u001b[1;34m'python'\u001b[0m\u001b[1;33m:\u001b[0m\u001b[1;33m\u001b[0m\u001b[0m\n",
      "\u001b[1;32m~\\Anaconda3\\lib\\site-packages\\pandas\\io\\parsers.py\u001b[0m in \u001b[0;36m__init__\u001b[1;34m(self, src, **kwds)\u001b[0m\n\u001b[0;32m   1693\u001b[0m         \u001b[0mkwds\u001b[0m\u001b[1;33m[\u001b[0m\u001b[1;34m'allow_leading_cols'\u001b[0m\u001b[1;33m]\u001b[0m \u001b[1;33m=\u001b[0m \u001b[0mself\u001b[0m\u001b[1;33m.\u001b[0m\u001b[0mindex_col\u001b[0m \u001b[1;32mis\u001b[0m \u001b[1;32mnot\u001b[0m \u001b[1;32mFalse\u001b[0m\u001b[1;33m\u001b[0m\u001b[0m\n\u001b[0;32m   1694\u001b[0m \u001b[1;33m\u001b[0m\u001b[0m\n\u001b[1;32m-> 1695\u001b[1;33m         \u001b[0mself\u001b[0m\u001b[1;33m.\u001b[0m\u001b[0m_reader\u001b[0m \u001b[1;33m=\u001b[0m \u001b[0mparsers\u001b[0m\u001b[1;33m.\u001b[0m\u001b[0mTextReader\u001b[0m\u001b[1;33m(\u001b[0m\u001b[0msrc\u001b[0m\u001b[1;33m,\u001b[0m \u001b[1;33m**\u001b[0m\u001b[0mkwds\u001b[0m\u001b[1;33m)\u001b[0m\u001b[1;33m\u001b[0m\u001b[0m\n\u001b[0m\u001b[0;32m   1696\u001b[0m \u001b[1;33m\u001b[0m\u001b[0m\n\u001b[0;32m   1697\u001b[0m         \u001b[1;31m# XXX\u001b[0m\u001b[1;33m\u001b[0m\u001b[1;33m\u001b[0m\u001b[0m\n",
      "\u001b[1;32mpandas/_libs/parsers.pyx\u001b[0m in \u001b[0;36mpandas._libs.parsers.TextReader.__cinit__\u001b[1;34m()\u001b[0m\n",
      "\u001b[1;32mpandas/_libs/parsers.pyx\u001b[0m in \u001b[0;36mpandas._libs.parsers.TextReader._setup_parser_source\u001b[1;34m()\u001b[0m\n",
      "\u001b[1;31mOSError\u001b[0m: Initializing from file failed"
     ]
    }
   ],
   "source": [
    "df1 = pd.read_csv('KBL_preprocessed.csv')\n",
    "df2 = pd.read_csv('프로기록있는애들.csv')\n",
    "df3 = pd.read_csv('프로기록없는애들.csv')"
   ]
  },
  {
   "cell_type": "code",
   "execution_count": 33,
   "metadata": {},
   "outputs": [],
   "source": [
    "#normalization 대상 columns\n",
    "df1normcol = df1.columns[7:]\n",
    "df2normcol = df2.columns[2:34]\n",
    "df3normcol = df3.columns[2:34]"
   ]
  },
  {
   "cell_type": "code",
   "execution_count": 34,
   "metadata": {},
   "outputs": [],
   "source": [
    "fd1 = df1[df1normcol].to_numpy()\n",
    "fd2 = df2[df2normcol].to_numpy()\n",
    "fd3 = df3[df3normcol].to_numpy()"
   ]
  },
  {
   "cell_type": "code",
   "execution_count": 35,
   "metadata": {},
   "outputs": [],
   "source": [
    "def normalize(df):\n",
    "    mean = df.mean(axis=0)\n",
    "    mean = mean.reshape(1,mean.shape[0])\n",
    "    std = df.std(axis=0)\n",
    "    std= std.reshape(1,std.shape[0])\n",
    "    newdf = df - mean\n",
    "    newdf = newdf/std\n",
    "    return newdf\n",
    "\n",
    "def nancoldel(df):\n",
    "    threshold = df.shape[0] * 0.7\n",
    "    for col in df.columns :\n",
    "        counter = df[col].count()\n",
    "        if counter<threshold:\n",
    "            df = df.drop(col,axis=1)\n",
    "    newdf = df.dropna(axis=0)\n",
    "    newdf = newdf.reset_index(drop=True)\n",
    "    return newdf"
   ]
  },
  {
   "cell_type": "code",
   "execution_count": 36,
   "metadata": {},
   "outputs": [],
   "source": [
    "#날짜, percentage 데이터 전처리\n",
    "for i in range(fd2.shape[0]):\n",
    "    k= str(fd2[i,1])\n",
    "    k = k.replace('\\'','')\n",
    "    k = k.replace(':','')\n",
    "    val = int(k[:2])*3600 + int(k[2:4])*60 +int(k[4:])\n",
    "    fd2[i,1] = val\n",
    "    l = str(fd2[i,6]).replace('\\'','')\n",
    "    m = str(fd2[i,9]).replace('\\'','')\n",
    "    n = str(fd2[i,12]).replace('\\'','')\n",
    "    l = l.replace('.','')\n",
    "    m = m.replace('.','')\n",
    "    n = n.replace('.','')\n",
    "    l = int(l.replace('%',''))\n",
    "    m = int(m.replace('%',''))\n",
    "    n = int(n.replace('%',''))\n",
    "    \n",
    "    fd2[i,6] = l\n",
    "    fd2[i,9] = m\n",
    "    fd2[i,12] = n\n",
    "    \n",
    "for i in range(fd3.shape[0]):\n",
    "    k= str(fd3[i,1])\n",
    "    k = k.replace('\\'','')\n",
    "    k = k.replace(':','')\n",
    "    val = int(k[:2])*3600 + int(k[2:4])*60 +int(k[4:])\n",
    "    fd3[i,1] = val\n",
    "    l = str(fd3[i,6]).replace('\\'','')\n",
    "    m = str(fd3[i,9]).replace('\\'','')\n",
    "    n = str(fd3[i,12]).replace('\\'','')\n",
    "    l = l.replace('.','')\n",
    "    m = m.replace('.','')\n",
    "    n = n.replace('.','')\n",
    "    l = int(l.replace('%',''))\n",
    "    m = int(m.replace('%',''))\n",
    "    n = int(n.replace('%',''))\n",
    "    fd3[i,6] = l\n",
    "    fd3[i,9] = m\n",
    "    fd3[i,12] = n"
   ]
  },
  {
   "cell_type": "code",
   "execution_count": 37,
   "metadata": {},
   "outputs": [],
   "source": [
    "#std에서 에러나길래 타입 통일해줌\n",
    "fd1 = fd1.astype(np.float32)\n",
    "fd2 = fd2.astype(np.float32)\n",
    "fd3 = fd3.astype(np.float32)"
   ]
  },
  {
   "cell_type": "code",
   "execution_count": 38,
   "metadata": {},
   "outputs": [
    {
     "name": "stderr",
     "output_type": "stream",
     "text": [
      "<ipython-input-35-9332481b81bc>:7: RuntimeWarning: invalid value encountered in true_divide\n",
      "  newdf = newdf/std\n"
     ]
    }
   ],
   "source": [
    "fd1 = normalize(fd1)\n",
    "fd2 = normalize(fd2)\n",
    "fd3 = normalize(fd3)"
   ]
  },
  {
   "cell_type": "code",
   "execution_count": 39,
   "metadata": {},
   "outputs": [],
   "source": [
    "normeddf1 = pd.DataFrame(fd1)\n",
    "normeddf2 = pd.DataFrame(fd2)\n",
    "normeddf3 = pd.DataFrame(fd3)"
   ]
  },
  {
   "cell_type": "code",
   "execution_count": 40,
   "metadata": {},
   "outputs": [],
   "source": [
    "df1col = df1.columns[2:7] \n",
    "df2col1 = df2.columns[:2]\n",
    "df3col1 = df3.columns[:2]\n",
    "df2col2 = df2.columns[34:]\n",
    "df3col2 = df3.columns[34:]"
   ]
  },
  {
   "cell_type": "code",
   "execution_count": 41,
   "metadata": {},
   "outputs": [],
   "source": [
    "newdf1 = pd.concat([df1[df1col],normeddf1],axis=1)\n",
    "newdf2 = pd.concat([df2[df2col1],normeddf2],axis=1)\n",
    "newdf2 = pd.concat([newdf2[newdf2.columns[1:]], df2[df2col2]],axis=1)\n",
    "newdf3 = pd.concat([df3[df3col1],normeddf3],axis=1)\n",
    "newdf3 = pd.concat([newdf3[newdf3.columns[1:]], df3[df3col2]],axis=1)"
   ]
  },
  {
   "cell_type": "code",
   "execution_count": 42,
   "metadata": {},
   "outputs": [],
   "source": [
    "newdf1.columns = ['경기', '년도', '순위', '선수명', '팀', 'PTS', 'FG', 'FGA', 'FG%', 'FT', 'FTA',\n",
    "       'FT%', 'PP', 'PPA', 'PP%', 'REB_OFF', 'REB_DEF', 'REB_TOT', 'AST', 'TO',\n",
    "       'STL', 'BS', 'DF']\n",
    "newdf2.columns = ['선수명', '경기수', '전체 출전시간', '득점 전체', '득점 평균', '2점슛 성공', '2점슛 시도',\n",
    "       '2점슛 성공률', '3점슛 성공', '3점슛 시도', '3점슛 성공률', '자유투 성공', '자유투 시도', '자유투 성공률',\n",
    "       '공격 리바운드', '수비 리바운드', '평균 리바운드', '전체 어시스트', '평균 어시스트', '스틸', '블록',\n",
    "       '덩크슛 성공', '덩크슛 시도', '파울(자유튜유)', '파울(자유투무)', 'IDF', '테크니컬 파울', '굿디펜스',\n",
    "       '속공', 'FBF', '턴오버', '팀 리바운드', '팀 턴오버', '대회년도', '대학교']\n",
    "newdf3.columns = ['선수명', '경기수', '전체 출전시간', '득점 전체', '득점 평균', '2점슛 성공', '2점슛 시도',\n",
    "       '2점슛 성공률', '3점슛 성공', '3점슛 시도', '3점슛 성공률', '자유투 성공', '자유투 시도', '자유투 성공률',\n",
    "       '공격 리바운드', '수비 리바운드', '평균 리바운드', '전체 어시스트', '평균 어시스트', '스틸', '블록',\n",
    "       '덩크슛 성공', '덩크슛 시도', '파울(자유튜유)', '파울(자유투무)', 'IDF', '테크니컬 파울', '굿디펜스',\n",
    "       '속공', 'FBF', '턴오버', '팀 리바운드', '팀 턴오버', '대회년도', '대학교']"
   ]
  },
  {
   "cell_type": "code",
   "execution_count": 43,
   "metadata": {},
   "outputs": [],
   "source": [
    "newdf1 = nancoldel(newdf1)\n",
    "newdf2 = nancoldel(newdf2)\n",
    "newdf3 = nancoldel(newdf3)"
   ]
  },
  {
   "cell_type": "code",
   "execution_count": 45,
   "metadata": {},
   "outputs": [],
   "source": [
    "newdf1.to_csv('kbl_normalized.csv', encoding='utf-8-sig')\n",
    "newdf2.to_csv('univtopro_normalized.csv', encoding='utf-8-sig')\n",
    "newdf3.to_csv('univnopro_normalized.csv', encoding='utf-8-sig')"
   ]
  },
  {
   "cell_type": "code",
   "execution_count": null,
   "metadata": {},
   "outputs": [],
   "source": []
  }
 ],
 "metadata": {
  "kernelspec": {
   "display_name": "Python 3",
   "language": "python",
   "name": "python3"
  },
  "language_info": {
   "codemirror_mode": {
    "name": "ipython",
    "version": 3
   },
   "file_extension": ".py",
   "mimetype": "text/x-python",
   "name": "python",
   "nbconvert_exporter": "python",
   "pygments_lexer": "ipython3",
   "version": "3.6.4"
  }
 },
 "nbformat": 4,
 "nbformat_minor": 4
}
